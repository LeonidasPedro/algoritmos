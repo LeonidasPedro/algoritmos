{
 "cells": [
  {
   "cell_type": "code",
   "execution_count": 38,
   "id": "b1e760cd",
   "metadata": {},
   "outputs": [
    {
     "name": "stdout",
     "output_type": "stream",
     "text": [
      "Automação do processo de Pedido de produtos - Bebidas em Caixas\n"
     ]
    }
   ],
   "source": [
    "print(\"Automação do processo de Pedido de produtos - Bebidas em Caixas\")\n",
    "import time\n",
    "import pyautogui\n",
    "import pyperclip"
   ]
  },
  {
   "cell_type": "code",
   "execution_count": 39,
   "id": "fc4ce1e6",
   "metadata": {},
   "outputs": [
    {
     "ename": "KeyboardInterrupt",
     "evalue": "",
     "output_type": "error",
     "traceback": [
      "\u001b[0;31m---------------------------------------------------------------------------\u001b[0m",
      "\u001b[0;31mKeyboardInterrupt\u001b[0m                         Traceback (most recent call last)",
      "\u001b[0;32m/tmp/ipykernel_9395/2302000625.py\u001b[0m in \u001b[0;36m<module>\u001b[0;34m\u001b[0m\n\u001b[1;32m     18\u001b[0m \u001b[0;31m#yautogui.click(351,339,clicks=2) # dois clicks na posição x e y, abre a planilha na guia\u001b[0m\u001b[0;34m\u001b[0m\u001b[0;34m\u001b[0m\u001b[0m\n\u001b[1;32m     19\u001b[0m \u001b[0mpyautogui\u001b[0m\u001b[0;34m.\u001b[0m\u001b[0mrightClick\u001b[0m\u001b[0;34m(\u001b[0m\u001b[0;36m327\u001b[0m\u001b[0;34m,\u001b[0m\u001b[0;36m342\u001b[0m\u001b[0;34m)\u001b[0m \u001b[0;31m# click com botão direito na posição x e y abre janela download\u001b[0m\u001b[0;34m\u001b[0m\u001b[0;34m\u001b[0m\u001b[0m\n\u001b[0;32m---> 20\u001b[0;31m \u001b[0mtime\u001b[0m\u001b[0;34m.\u001b[0m\u001b[0msleep\u001b[0m\u001b[0;34m(\u001b[0m\u001b[0;36m5\u001b[0m\u001b[0;34m)\u001b[0m \u001b[0;31m# Pausa 5 segundos para sincronismo necessário à execução da abertura da página\u001b[0m\u001b[0;34m\u001b[0m\u001b[0;34m\u001b[0m\u001b[0m\n\u001b[0m\u001b[1;32m     21\u001b[0m \u001b[0mpyautogui\u001b[0m\u001b[0;34m.\u001b[0m\u001b[0mclick\u001b[0m\u001b[0;34m(\u001b[0m\u001b[0;36m486\u001b[0m\u001b[0;34m,\u001b[0m\u001b[0;36m642\u001b[0m\u001b[0;34m)\u001b[0m \u001b[0;31m# um click com botão esquerdo na posição x e y para downolad de pedidos para pasta local\u001b[0m\u001b[0;34m\u001b[0m\u001b[0;34m\u001b[0m\u001b[0m\n\u001b[1;32m     22\u001b[0m \u001b[0mtime\u001b[0m\u001b[0;34m.\u001b[0m\u001b[0msleep\u001b[0m\u001b[0;34m(\u001b[0m\u001b[0;36m5\u001b[0m\u001b[0;34m)\u001b[0m\u001b[0;31m# Pausa 5 segundos para sincronismo necessário à execução da abertura da página\u001b[0m\u001b[0;34m\u001b[0m\u001b[0;34m\u001b[0m\u001b[0m\n",
      "\u001b[0;31mKeyboardInterrupt\u001b[0m: "
     ]
    }
   ],
   "source": [
    "pyautogui.PAUSE=2 # Pausa por 2 segundos a cada comando - Tempo para sincronizar cada linha de execução\n",
    "pyautogui.alert(\"Enquanto executa, não interaja com o teclado e mouse!\")\n",
    "pyautogui.press(\"winleft\") # Abre o menu iniciar do windows\n",
    "time.sleep(1)\n",
    "pyautogui.write(\"Brave\") # Insere Chrome na caixa de diálogo do menu (pode ser qualquer navegador)\n",
    "pyautogui.press(\"Enter\") # Rodando o navegador\n",
    "pyautogui.hotkey('ctrl', 't')   \n",
    "\n",
    "local_1=\"https://drive.google.com/drive/folders/1IZRJxfpS9hbCmj8uHg8z6VpeM-MKKvqX?usp=sharing\"\n",
    "pyperclip.copy(local_1)\n",
    "pyautogui.hotkey('ctrl','shift','tab')\n",
    "time.sleep(5)\n",
    "pyautogui.hotkey(\"ctrl\",\"v\")\n",
    "time.sleep(5)\n",
    "pyautogui.press(\"Enter\")\n",
    "time.sleep(5)\n",
    "# baixar planilha pedido\n",
    "#yautogui.click(351,339,clicks=2) # dois clicks na posição x e y, abre a planilha na guia\n",
    "pyautogui.rightClick(327,342) # click com botão direito na posição x e y abre janela download\n",
    "time.sleep(5) # Pausa 5 segundos para sincronismo necessário à execução da abertura da página\n",
    "pyautogui.click(486,642) # um click com botão esquerdo na posição x e y para downolad de pedidos para pasta local \n",
    "time.sleep(5)# Pausa 5 segundos para sincronismo necessário à execução da abertura da página\n",
    "pyautogui.hotkey('Alt',' ','F4') # Fecha janela do navegador \n",
    "###########################################################################################################################\n"
   ]
  },
  {
   "cell_type": "raw",
   "id": "ad5cd6ed",
   "metadata": {},
   "source": []
  },
  {
   "cell_type": "raw",
   "id": "b65d20aa",
   "metadata": {},
   "source": []
  },
  {
   "cell_type": "raw",
   "id": "213f748b",
   "metadata": {},
   "source": []
  },
  {
   "cell_type": "raw",
   "id": "4b252da1",
   "metadata": {},
   "source": []
  },
  {
   "cell_type": "raw",
   "id": "eec0bf73",
   "metadata": {},
   "source": []
  },
  {
   "cell_type": "code",
   "execution_count": null,
   "id": "a8d0c5a2",
   "metadata": {},
   "outputs": [],
   "source": []
  },
  {
   "cell_type": "code",
   "execution_count": null,
   "id": "beb4ede0",
   "metadata": {},
   "outputs": [],
   "source": []
  },
  {
   "cell_type": "code",
   "execution_count": null,
   "id": "9c184a94",
   "metadata": {},
   "outputs": [],
   "source": []
  },
  {
   "cell_type": "code",
   "execution_count": null,
   "id": "96679b9c",
   "metadata": {},
   "outputs": [],
   "source": []
  },
  {
   "cell_type": "code",
   "execution_count": null,
   "id": "0c89d44c",
   "metadata": {},
   "outputs": [],
   "source": []
  },
  {
   "cell_type": "code",
   "execution_count": null,
   "id": "d321ee10",
   "metadata": {},
   "outputs": [],
   "source": []
  },
  {
   "cell_type": "code",
   "execution_count": null,
   "id": "b5d7f8b9",
   "metadata": {},
   "outputs": [],
   "source": []
  },
  {
   "cell_type": "code",
   "execution_count": null,
   "id": "6e52b6f8",
   "metadata": {},
   "outputs": [],
   "source": []
  },
  {
   "cell_type": "code",
   "execution_count": null,
   "id": "f47500f2",
   "metadata": {},
   "outputs": [],
   "source": []
  },
  {
   "cell_type": "code",
   "execution_count": null,
   "id": "a2509db4",
   "metadata": {},
   "outputs": [],
   "source": []
  }
 ],
 "metadata": {
  "kernelspec": {
   "display_name": "Python 3 (ipykernel)",
   "language": "python",
   "name": "python3"
  },
  "language_info": {
   "codemirror_mode": {
    "name": "ipython",
    "version": 3
   },
   "file_extension": ".py",
   "mimetype": "text/x-python",
   "name": "python",
   "nbconvert_exporter": "python",
   "pygments_lexer": "ipython3",
   "version": "3.9.15"
  }
 },
 "nbformat": 4,
 "nbformat_minor": 5
}
